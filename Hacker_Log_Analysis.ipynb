{
 "cells": [
  {
   "cell_type": "markdown",
   "id": "4893172a",
   "metadata": {},
   "source": [
    "# Hacker log analysis project"
   ]
  },
  {
   "cell_type": "markdown",
   "id": "bb3d7d7e",
   "metadata": {},
   "source": [
    "## OVERVIEW\n",
    "\n",
    "> Analyzing textual log data from an online chat forum related to the \n",
    "Anonymous hacktivist group.Applying regular expressions to summarize log data, \n",
    "quantify text data, and summarize time trends.\n",
    "\n",
    "### objectives\n",
    "\n",
    "1. Find and list the URLs posted in the chat.\n",
    "\n",
    "2. Find the most common words.\n",
    "\n",
    "3. Find and rank (by count) words not in an English dictionary. This is a simple method \n",
    "   that can identify some names of malware tools.\n",
    "   \n",
    "4. Count the total number of written messages (only those with actual text content) and\n",
    "   Summarize the users that posted the most messages.\n",
    "   \n",
    "5. Which hours of the day had the most messages? Which days had the most traffic (or \n",
    "   messages?\n",
    "   \n",
    "6. Many users log in and view the chat without commenting. Which users spent the most time \n",
    "   in the logs? Which users logged in the most.\n",
    "   "
   ]
  },
  {
   "cell_type": "code",
   "execution_count": 1,
   "id": "3d803a0f",
   "metadata": {},
   "outputs": [],
   "source": [
    "#import necessary libraries for EDA(exploratory data analysis) \n",
    "#we are using regular expression to search in the text.\n",
    "import pandas as pd\n",
    "import matplotlib as plt\n",
    "import numpy as np\n",
    "import re  #regular expression"
   ]
  },
  {
   "cell_type": "code",
   "execution_count": 5,
   "id": "93c52d2a",
   "metadata": {},
   "outputs": [],
   "source": [
    "#log file is binary file to we need to read binary file (rb) then decode it to text/string.\n",
    "with open('hackers.log','rb') as fp:\n",
    "    data = fp.read()\n",
    "new_data = data.decode(encoding='latin1') #utf-8 doesn't work on some files."
   ]
  },
  {
   "cell_type": "code",
   "execution_count": 7,
   "id": "7f95e598",
   "metadata": {},
   "outputs": [
    {
     "name": "stdout",
     "output_type": "stream",
     "text": [
      "--- Log opened Tue Sep 20 00:01:49 2016\n",
      "00:01 -!- Guest40341 [AndChat2541@AN-pl0gl1.8e2d.64f9.r226rd.IP] has quit [Quit: Bye]\n",
      "00:11 -!- peejr [peeejr@AN-sru.3ib.ec0efc.IP] has joined #hackers\n",
      "00:14 -!- Gilgamesh [Gilgamesh@AN-nkf.mv0.se355c.IP] has joined #hackers\n",
      "00:15 -!- _CyBruh_ [-Cybruh@AN-gm6.oj9.rj1tv4.IP] has quit [Quit: Leaving]\n",
      "00:20 -!- peejr [peeejr@AN-sru.3ib.ec0efc.IP] has quit [Quit: Leaving]\n",
      "00:25 < ice231> anyone good with exploiting cisco asa with extrabacon?\n",
      "00:27 < ice231> we need help with an op but were stuck at this one part\n",
      "00:27 -!- Bobseviltwin [steven@stupid.hunkey.monkey] has quit [Ping timeout: 121 seconds]\n",
      "00:30 -!- Gilgamesh [Gilgamesh@AN-nkf.mv0.se355c.IP] has quit [Quit: Leaving]\n",
      "00:30 -!- peejr [peeejr@AN-sru.3ib.ec0efc.IP] has joined #hackers\n",
      "00:34 -!- peejr [peeejr@AN-sru.3ib.ec0efc.IP] has quit [Quit: Leaving]\n",
      "00:34 -!- peejr [peeejr@AN-sru.3ib.ec0efc.IP] has joined #hackers\n",
      "00:35 -!- Anonymous5 [Anonymous5@AN-tu4.e85.r2ddjo.IP] has joined #hackers\n",
      "\n"
     ]
    }
   ],
   "source": [
    "print(new_data[:1000])\n",
    "#this is how the log looks"
   ]
  },
  {
   "cell_type": "code",
   "execution_count": null,
   "id": "6b8e0680",
   "metadata": {},
   "outputs": [],
   "source": [
    "#looking at sample of data because jupyter notebook has a output limit we need to change that \n",
    "#limit we use this command on jupyter cell\n",
    "# !jupyter notebook --NotebookApp.iopub_data_rate_limit=1e+15"
   ]
  },
  {
   "cell_type": "markdown",
   "id": "f3ea5634",
   "metadata": {},
   "source": [
    "`1. Find and list the URLs posted in the chat.`"
   ]
  },
  {
   "cell_type": "code",
   "execution_count": 47,
   "id": "191c9cdd",
   "metadata": {},
   "outputs": [
    {
     "data": {
      "text/plain": [
       "'http://i.imgur.com/PoCjYqQ.png'"
      ]
     },
     "execution_count": 47,
     "metadata": {},
     "output_type": "execute_result"
    }
   ],
   "source": [
    "#first we check chat using <.+> than for urls. it may start with http or www .\n",
    "\n",
    "pattern = re.compile(r\"<.+>.+((https|http|www|ftp)[A-Za-z0-9-._~/:?#\\[\\]@!$&'\\(\\)*+,;=]{9,})\\s\")\n",
    "result = pattern.findall(new_data) #gives a list of items\n",
    "result[0][0] #url is at 0 position of list."
   ]
  },
  {
   "cell_type": "code",
   "execution_count": 48,
   "id": "aed451e8",
   "metadata": {},
   "outputs": [
    {
     "data": {
      "text/plain": [
       "4622"
      ]
     },
     "execution_count": 48,
     "metadata": {},
     "output_type": "execute_result"
    }
   ],
   "source": [
    "#we have this many urls\n",
    "len(result)"
   ]
  },
  {
   "cell_type": "code",
   "execution_count": 10,
   "id": "6f8c5b7f",
   "metadata": {},
   "outputs": [
    {
     "name": "stdout",
     "output_type": "stream",
     "text": [
      "http://i.imgur.com/PoCjYqQ.png\n",
      "https://vid.pr0gramm.com/2015/08/28/8a9af1793785d29e.mp4\n",
      "www.ismoman.com\n",
      "www.ismoman.com:2083\n",
      "www.ismoman.com/wp-content/themes/ism/\n",
      "http://pastebin.com/iuE1sEZq\n",
      "http://monkey.org/~dugsong/dsniff/\n",
      "http://monkey.org/~dugsong/dsniff/faq.html\n",
      "https://newblood.anonops.com/vpn.html\n",
      "https://ghostbin.com/paste/r6mte\n",
      "https://github.com/Netsukuku/netsukuku\n",
      "www.nbrri.gov.ng\n",
      "www.tibia.com\n",
      "www.sunnieday.be\n",
      "www.youtube.com/watch?v=IdKKCJk0w2E\n",
      "www.youtube.com/channel/UCz6mEi8mD55SHnQW08uNKAg\n",
      "www.facebook.com/jamal.oubram.7?ref=br_rs\n",
      "https://paper.li/f-1471864321#!headlines\n",
      "www.youtube.com/watch?v=tWdgAMYjYSs\n",
      "https://en.wikipedia.org/wiki/Max_Headroom_broadcast_signal_intrusion\n",
      "https://youtu.be/ThxmcVbV1ZI\n"
     ]
    }
   ],
   "source": [
    "#result will give two groups one is the complete url and other is the begining word.\n",
    "# iterating the result to get the desired result \n",
    "for i in range(len(result)):\n",
    "    if i <= 20:\n",
    "        url = result[i][0]\n",
    "        print(url)\n",
    "    else:\n",
    "        break\n",
    "# we are only showing 20 urls in the output."
   ]
  },
  {
   "cell_type": "code",
   "execution_count": 14,
   "id": "508af5fb",
   "metadata": {},
   "outputs": [],
   "source": [
    "#we can also write the urls in a log/text file\n",
    "for i in range(len(result)):\n",
    "    with open(\"urls.log\",\"a\") as fp:\n",
    "        fp.write(f\"{result[i][0]}\\n\")\n"
   ]
  },
  {
   "cell_type": "markdown",
   "id": "25110efc",
   "metadata": {},
   "source": [
    "`2. Find the most common words.`"
   ]
  },
  {
   "cell_type": "code",
   "execution_count": 16,
   "id": "34b07af0",
   "metadata": {},
   "outputs": [],
   "source": [
    "pat = r\"<.+> ([a-zA-Z0-9 !*&^%$#@()-_=+:;'\\\"\\?\\/\\\\<>.]+)\\n\"\n",
    "answer = re.findall(pat,new_data,re.M|re.I)\n",
    "#this will find the chat "
   ]
  },
  {
   "cell_type": "code",
   "execution_count": 17,
   "id": "934306ef",
   "metadata": {},
   "outputs": [],
   "source": [
    "#splitting the chat sentence into words then cleaning them of special characters then appending\n",
    "# into list of words\n",
    "words = []\n",
    "for line in answer:\n",
    "    words += [word.strip(\"?!@#$%^&></'\\\"\\\\*(,).`~=+-_|\") for word in line.split() if len(word)<=20]"
   ]
  },
  {
   "cell_type": "code",
   "execution_count": 18,
   "id": "a5f9e020",
   "metadata": {},
   "outputs": [
    {
     "data": {
      "text/html": [
       "<div>\n",
       "<style scoped>\n",
       "    .dataframe tbody tr th:only-of-type {\n",
       "        vertical-align: middle;\n",
       "    }\n",
       "\n",
       "    .dataframe tbody tr th {\n",
       "        vertical-align: top;\n",
       "    }\n",
       "\n",
       "    .dataframe thead th {\n",
       "        text-align: right;\n",
       "    }\n",
       "</style>\n",
       "<table border=\"1\" class=\"dataframe\">\n",
       "  <thead>\n",
       "    <tr style=\"text-align: right;\">\n",
       "      <th></th>\n",
       "      <th>words</th>\n",
       "    </tr>\n",
       "  </thead>\n",
       "  <tbody>\n",
       "    <tr>\n",
       "      <th>0</th>\n",
       "      <td>anyone</td>\n",
       "    </tr>\n",
       "    <tr>\n",
       "      <th>1</th>\n",
       "      <td>good</td>\n",
       "    </tr>\n",
       "    <tr>\n",
       "      <th>2</th>\n",
       "      <td>with</td>\n",
       "    </tr>\n",
       "    <tr>\n",
       "      <th>3</th>\n",
       "      <td>exploiting</td>\n",
       "    </tr>\n",
       "    <tr>\n",
       "      <th>4</th>\n",
       "      <td>cisco</td>\n",
       "    </tr>\n",
       "    <tr>\n",
       "      <th>...</th>\n",
       "      <td>...</td>\n",
       "    </tr>\n",
       "    <tr>\n",
       "      <th>1553353</th>\n",
       "      <td>wreckless</td>\n",
       "    </tr>\n",
       "    <tr>\n",
       "      <th>1553354</th>\n",
       "      <td>alpha</td>\n",
       "    </tr>\n",
       "    <tr>\n",
       "      <th>1553355</th>\n",
       "      <td>code</td>\n",
       "    </tr>\n",
       "    <tr>\n",
       "      <th>1553356</th>\n",
       "      <td>out</td>\n",
       "    </tr>\n",
       "    <tr>\n",
       "      <th>1553357</th>\n",
       "      <td>there</td>\n",
       "    </tr>\n",
       "  </tbody>\n",
       "</table>\n",
       "<p>1553358 rows × 1 columns</p>\n",
       "</div>"
      ],
      "text/plain": [
       "              words\n",
       "0            anyone\n",
       "1              good\n",
       "2              with\n",
       "3        exploiting\n",
       "4             cisco\n",
       "...             ...\n",
       "1553353   wreckless\n",
       "1553354       alpha\n",
       "1553355        code\n",
       "1553356         out\n",
       "1553357       there\n",
       "\n",
       "[1553358 rows x 1 columns]"
      ]
     },
     "execution_count": 18,
     "metadata": {},
     "output_type": "execute_result"
    }
   ],
   "source": [
    "#making a data frame of words\n",
    "df = pd.DataFrame(words,columns=[\"words\"])\n",
    "df"
   ]
  },
  {
   "cell_type": "code",
   "execution_count": 21,
   "id": "60eed10d",
   "metadata": {},
   "outputs": [
    {
     "data": {
      "text/plain": [
       "words      \n",
       "               41039\n",
       "a              39548\n",
       "to             38476\n",
       "and            35262\n",
       "the            34382\n",
       "               ...  \n",
       "confoos            1\n",
       "confortable        1\n",
       "confounded         1\n",
       "confrences         1\n",
       "zzzzzzzzz          1\n",
       "Length: 59290, dtype: int64"
      ]
     },
     "execution_count": 21,
     "metadata": {},
     "output_type": "execute_result"
    }
   ],
   "source": [
    "df.value_counts() #our dataframe contains empty string . we need to remove them ."
   ]
  },
  {
   "cell_type": "code",
   "execution_count": 22,
   "id": "88707eae",
   "metadata": {},
   "outputs": [],
   "source": [
    "new_df = df[df[\"words\"]!=\"\"] #selecting dataframe which does not contain empty string."
   ]
  },
  {
   "cell_type": "markdown",
   "id": "feadcb96",
   "metadata": {},
   "source": [
    "most common words -->"
   ]
  },
  {
   "cell_type": "code",
   "execution_count": 37,
   "id": "5a9cef53",
   "metadata": {},
   "outputs": [
    {
     "data": {
      "text/plain": [
       "words\n",
       "a        39548\n",
       "to       38476\n",
       "and      35262\n",
       "the      34382\n",
       "you      23552\n",
       "is       20233\n",
       "of       20010\n",
       "i        19806\n",
       "for      19083\n",
       "it       18589\n",
       "dtype: int64"
      ]
     },
     "execution_count": 37,
     "metadata": {},
     "output_type": "execute_result"
    }
   ],
   "source": [
    "new_df.value_counts().head(10)"
   ]
  },
  {
   "cell_type": "markdown",
   "id": "6692dd82",
   "metadata": {},
   "source": [
    "`3. Find and rank (by count) words not in an English dictionary. This is a simple method \n",
    "   that can identify some names of malware tools`"
   ]
  },
  {
   "cell_type": "code",
   "execution_count": null,
   "id": "ce234669",
   "metadata": {},
   "outputs": [],
   "source": [
    "#this will remove the links present in data\n",
    "for url in words:\n",
    "    if 'https' in url:\n",
    "        words.remove(url)\n",
    "    elif 'http' in url:\n",
    "        words.remove(url)\n",
    "    elif 'www' in url:\n",
    "        words.remove(url)\n",
    "    elif 'ftp' in url:\n",
    "        words.remove(url)"
   ]
  },
  {
   "cell_type": "code",
   "execution_count": null,
   "id": "4162f130",
   "metadata": {},
   "outputs": [],
   "source": [
    "new_df.value_counts(ascending=True)[:60]"
   ]
  },
  {
   "cell_type": "code",
   "execution_count": null,
   "id": "16de49eb",
   "metadata": {},
   "outputs": [],
   "source": []
  },
  {
   "cell_type": "markdown",
   "id": "ed44d959",
   "metadata": {},
   "source": [
    "`4. Count the total number of written messages (only those with actual text content) and\n",
    "   Summarize the users that posted the most messages.`\n",
    "   "
   ]
  },
  {
   "cell_type": "code",
   "execution_count": 49,
   "id": "14aedbc0",
   "metadata": {},
   "outputs": [],
   "source": [
    "pat = r\"<(.+)> ([a-zA-Z0-9 !*&^%$#@()-_=+:;'\\\"\\?\\/\\\\<>.]+)\\n\"\n",
    "result = re.findall(pat,new_data,re.M|re.I)"
   ]
  },
  {
   "cell_type": "code",
   "execution_count": 50,
   "id": "e71049ee",
   "metadata": {},
   "outputs": [
    {
     "data": {
      "text/html": [
       "<div>\n",
       "<style scoped>\n",
       "    .dataframe tbody tr th:only-of-type {\n",
       "        vertical-align: middle;\n",
       "    }\n",
       "\n",
       "    .dataframe tbody tr th {\n",
       "        vertical-align: top;\n",
       "    }\n",
       "\n",
       "    .dataframe thead th {\n",
       "        text-align: right;\n",
       "    }\n",
       "</style>\n",
       "<table border=\"1\" class=\"dataframe\">\n",
       "  <thead>\n",
       "    <tr style=\"text-align: right;\">\n",
       "      <th></th>\n",
       "      <th>user</th>\n",
       "      <th>message</th>\n",
       "    </tr>\n",
       "  </thead>\n",
       "  <tbody>\n",
       "    <tr>\n",
       "      <th>0</th>\n",
       "      <td>ice231</td>\n",
       "      <td>anyone good with exploiting cisco asa with ext...</td>\n",
       "    </tr>\n",
       "    <tr>\n",
       "      <th>1</th>\n",
       "      <td>ice231</td>\n",
       "      <td>we need help with an op but were stuck at this...</td>\n",
       "    </tr>\n",
       "    <tr>\n",
       "      <th>2</th>\n",
       "      <td>HeavenGuard</td>\n",
       "      <td>hello?</td>\n",
       "    </tr>\n",
       "    <tr>\n",
       "      <th>3</th>\n",
       "      <td>+nemecy</td>\n",
       "      <td>hi</td>\n",
       "    </tr>\n",
       "    <tr>\n",
       "      <th>4</th>\n",
       "      <td>ice231</td>\n",
       "      <td>hi</td>\n",
       "    </tr>\n",
       "    <tr>\n",
       "      <th>...</th>\n",
       "      <td>...</td>\n",
       "      <td>...</td>\n",
       "    </tr>\n",
       "    <tr>\n",
       "      <th>227346</th>\n",
       "      <td>hypnotic</td>\n",
       "      <td>I do not understand that... I understand the p...</td>\n",
       "    </tr>\n",
       "    <tr>\n",
       "      <th>227347</th>\n",
       "      <td>hypnotic</td>\n",
       "      <td>ah nevermind</td>\n",
       "    </tr>\n",
       "    <tr>\n",
       "      <th>227348</th>\n",
       "      <td>+Cogitabundus</td>\n",
       "      <td>Some like chaos.</td>\n",
       "    </tr>\n",
       "    <tr>\n",
       "      <th>227349</th>\n",
       "      <td>+Cogitabundus</td>\n",
       "      <td>Oh they left.</td>\n",
       "    </tr>\n",
       "    <tr>\n",
       "      <th>227350</th>\n",
       "      <td>DeTH</td>\n",
       "      <td>theres plenty of wreckless alpha code out there</td>\n",
       "    </tr>\n",
       "  </tbody>\n",
       "</table>\n",
       "<p>227351 rows × 2 columns</p>\n",
       "</div>"
      ],
      "text/plain": [
       "                 user                                            message\n",
       "0              ice231  anyone good with exploiting cisco asa with ext...\n",
       "1              ice231  we need help with an op but were stuck at this...\n",
       "2         HeavenGuard                                             hello?\n",
       "3             +nemecy                                                 hi\n",
       "4              ice231                                                 hi\n",
       "...               ...                                                ...\n",
       "227346       hypnotic  I do not understand that... I understand the p...\n",
       "227347       hypnotic                                       ah nevermind\n",
       "227348  +Cogitabundus                                   Some like chaos.\n",
       "227349  +Cogitabundus                                      Oh they left.\n",
       "227350           DeTH    theres plenty of wreckless alpha code out there\n",
       "\n",
       "[227351 rows x 2 columns]"
      ]
     },
     "execution_count": 50,
     "metadata": {},
     "output_type": "execute_result"
    }
   ],
   "source": [
    "df = pd.DataFrame(result,columns=[\"user\",\"message\"])\n",
    "df"
   ]
  },
  {
   "cell_type": "code",
   "execution_count": 57,
   "id": "acec58fc",
   "metadata": {},
   "outputs": [],
   "source": [
    "#we have bot messages (+evilbot) we drop those messages.\n",
    "index = df[df[\"user\"]==\"+evilbot\"].index"
   ]
  },
  {
   "cell_type": "code",
   "execution_count": 59,
   "id": "3d99121d",
   "metadata": {},
   "outputs": [],
   "source": [
    "df.drop(index,axis=0,inplace=True)"
   ]
  },
  {
   "cell_type": "markdown",
   "id": "84fc7fa2",
   "metadata": {},
   "source": [
    "`1.Number of written messages`"
   ]
  },
  {
   "cell_type": "code",
   "execution_count": 61,
   "id": "a773605f",
   "metadata": {},
   "outputs": [
    {
     "data": {
      "text/plain": [
       "196711"
      ]
     },
     "execution_count": 61,
     "metadata": {},
     "output_type": "execute_result"
    }
   ],
   "source": [
    "df['message'].count()"
   ]
  },
  {
   "cell_type": "markdown",
   "id": "bc50f7df",
   "metadata": {},
   "source": [
    "`2.users that posted the most messages`"
   ]
  },
  {
   "cell_type": "code",
   "execution_count": 66,
   "id": "dcf2a93c",
   "metadata": {},
   "outputs": [],
   "source": [
    "c = df[\"user\"].value_counts().head(10) #top ten messagers."
   ]
  },
  {
   "cell_type": "code",
   "execution_count": 79,
   "id": "315e853e",
   "metadata": {},
   "outputs": [],
   "source": [
    "d=pd.DataFrame(c).reset_index()"
   ]
  },
  {
   "cell_type": "code",
   "execution_count": 80,
   "id": "969b3e1e",
   "metadata": {},
   "outputs": [],
   "source": [
    "d.columns=['user','count']"
   ]
  },
  {
   "cell_type": "code",
   "execution_count": 81,
   "id": "fee82fdf",
   "metadata": {},
   "outputs": [
    {
     "data": {
      "text/html": [
       "<div>\n",
       "<style scoped>\n",
       "    .dataframe tbody tr th:only-of-type {\n",
       "        vertical-align: middle;\n",
       "    }\n",
       "\n",
       "    .dataframe tbody tr th {\n",
       "        vertical-align: top;\n",
       "    }\n",
       "\n",
       "    .dataframe thead th {\n",
       "        text-align: right;\n",
       "    }\n",
       "</style>\n",
       "<table border=\"1\" class=\"dataframe\">\n",
       "  <thead>\n",
       "    <tr style=\"text-align: right;\">\n",
       "      <th></th>\n",
       "      <th>user</th>\n",
       "      <th>count</th>\n",
       "    </tr>\n",
       "  </thead>\n",
       "  <tbody>\n",
       "    <tr>\n",
       "      <th>0</th>\n",
       "      <td>@guapo</td>\n",
       "      <td>8075</td>\n",
       "    </tr>\n",
       "    <tr>\n",
       "      <th>1</th>\n",
       "      <td>sTrikEforCe</td>\n",
       "      <td>5269</td>\n",
       "    </tr>\n",
       "    <tr>\n",
       "      <th>2</th>\n",
       "      <td>@BOFH</td>\n",
       "      <td>4413</td>\n",
       "    </tr>\n",
       "    <tr>\n",
       "      <th>3</th>\n",
       "      <td>lazarus</td>\n",
       "      <td>3885</td>\n",
       "    </tr>\n",
       "    <tr>\n",
       "      <th>4</th>\n",
       "      <td>DeTH</td>\n",
       "      <td>2975</td>\n",
       "    </tr>\n",
       "    <tr>\n",
       "      <th>5</th>\n",
       "      <td>catface</td>\n",
       "      <td>2927</td>\n",
       "    </tr>\n",
       "    <tr>\n",
       "      <th>6</th>\n",
       "      <td>dd_</td>\n",
       "      <td>2906</td>\n",
       "    </tr>\n",
       "    <tr>\n",
       "      <th>7</th>\n",
       "      <td>+Cogitabundus</td>\n",
       "      <td>2572</td>\n",
       "    </tr>\n",
       "    <tr>\n",
       "      <th>8</th>\n",
       "      <td>ubiquitous</td>\n",
       "      <td>2529</td>\n",
       "    </tr>\n",
       "    <tr>\n",
       "      <th>9</th>\n",
       "      <td>maxmuster</td>\n",
       "      <td>2236</td>\n",
       "    </tr>\n",
       "  </tbody>\n",
       "</table>\n",
       "</div>"
      ],
      "text/plain": [
       "            user  count\n",
       "0         @guapo   8075\n",
       "1    sTrikEforCe   5269\n",
       "2          @BOFH   4413\n",
       "3        lazarus   3885\n",
       "4           DeTH   2975\n",
       "5        catface   2927\n",
       "6            dd_   2906\n",
       "7  +Cogitabundus   2572\n",
       "8     ubiquitous   2529\n",
       "9      maxmuster   2236"
      ]
     },
     "execution_count": 81,
     "metadata": {},
     "output_type": "execute_result"
    }
   ],
   "source": [
    "d"
   ]
  },
  {
   "cell_type": "code",
   "execution_count": null,
   "id": "9d173b8d",
   "metadata": {},
   "outputs": [],
   "source": []
  }
 ],
 "metadata": {
  "kernelspec": {
   "display_name": "Python 3 (ipykernel)",
   "language": "python",
   "name": "python3"
  },
  "language_info": {
   "codemirror_mode": {
    "name": "ipython",
    "version": 3
   },
   "file_extension": ".py",
   "mimetype": "text/x-python",
   "name": "python",
   "nbconvert_exporter": "python",
   "pygments_lexer": "ipython3",
   "version": "3.9.12"
  }
 },
 "nbformat": 4,
 "nbformat_minor": 5
}
